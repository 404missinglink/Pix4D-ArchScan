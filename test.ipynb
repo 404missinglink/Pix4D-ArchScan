{
 "cells": [
  {
   "cell_type": "code",
   "execution_count": 1,
   "metadata": {},
   "outputs": [
    {
     "name": "stdout",
     "output_type": "stream",
     "text": [
      "Collecting ultralytics\n",
      "  Using cached ultralytics-8.3.5-py3-none-any.whl (882 kB)\n",
      "Collecting tqdm>=4.64.0\n",
      "  Using cached tqdm-4.66.5-py3-none-any.whl (78 kB)\n",
      "Collecting seaborn>=0.11.0\n",
      "  Using cached seaborn-0.13.2-py3-none-any.whl (294 kB)\n",
      "Requirement already satisfied: pillow>=7.1.2 in /home/suman/projects/envs/drone_tracker/lib/python3.10/site-packages (from ultralytics) (10.4.0)\n",
      "Requirement already satisfied: opencv-python>=4.6.0 in /home/suman/projects/envs/drone_tracker/lib/python3.10/site-packages (from ultralytics) (4.10.0.84)\n",
      "Requirement already satisfied: numpy>=1.23.0 in /home/suman/projects/envs/drone_tracker/lib/python3.10/site-packages (from ultralytics) (2.1.1)\n",
      "Requirement already satisfied: requests>=2.23.0 in /home/suman/projects/envs/drone_tracker/lib/python3.10/site-packages (from ultralytics) (2.32.3)\n",
      "Collecting pandas>=1.1.4\n",
      "  Using cached pandas-2.2.3-cp310-cp310-manylinux_2_17_x86_64.manylinux2014_x86_64.whl (13.1 MB)\n",
      "Requirement already satisfied: pyyaml>=5.3.1 in /home/suman/projects/envs/drone_tracker/lib/python3.10/site-packages (from ultralytics) (6.0.2)\n",
      "Requirement already satisfied: scipy>=1.4.1 in /home/suman/projects/envs/drone_tracker/lib/python3.10/site-packages (from ultralytics) (1.14.1)\n",
      "Requirement already satisfied: psutil in /home/suman/projects/envs/drone_tracker/lib/python3.10/site-packages (from ultralytics) (6.0.0)\n",
      "Collecting torchvision>=0.9.0\n",
      "  Using cached torchvision-0.19.1-cp310-cp310-manylinux1_x86_64.whl (7.0 MB)\n",
      "Collecting py-cpuinfo\n",
      "  Using cached py_cpuinfo-9.0.0-py3-none-any.whl (22 kB)\n",
      "Collecting ultralytics-thop>=2.0.0\n",
      "  Downloading ultralytics_thop-2.0.9-py3-none-any.whl (26 kB)\n",
      "Collecting torch>=1.8.0\n",
      "  Downloading torch-2.4.1-cp310-cp310-manylinux1_x86_64.whl (797.1 MB)\n",
      "\u001b[2K     \u001b[91m━━━━━━━━━━\u001b[0m\u001b[90m╺\u001b[0m\u001b[90m━━━━━━━━━━━━━━━━━━━━━━━━━━━━\u001b[0m \u001b[32m209.9/797.1 MB\u001b[0m \u001b[31m1.7 MB/s\u001b[0m eta \u001b[36m0:05:45\u001b[0m"
     ]
    }
   ],
   "source": [
    "!pip install ultralytics\n",
    "!pip install supervision\n",
    "!pip install yt-dlp\n",
    "!pip install opencv-python"
   ]
  },
  {
   "cell_type": "code",
   "execution_count": null,
   "metadata": {},
   "outputs": [],
   "source": []
  }
 ],
 "metadata": {
  "kernelspec": {
   "display_name": ".venv",
   "language": "python",
   "name": "python3"
  },
  "language_info": {
   "codemirror_mode": {
    "name": "ipython",
    "version": 3
   },
   "file_extension": ".py",
   "mimetype": "text/x-python",
   "name": "python",
   "nbconvert_exporter": "python",
   "pygments_lexer": "ipython3",
   "version": "3.10.12"
  }
 },
 "nbformat": 4,
 "nbformat_minor": 2
}
